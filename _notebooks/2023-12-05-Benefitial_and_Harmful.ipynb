{
 "cells": [
  {
   "cell_type": "markdown",
   "metadata": {},
   "source": [
    "---\n",
    "toc: true\n",
    "comments: true\n",
    "layout: post\n",
    "title: Benefitial and Harmful Effects\n",
    "description: Team teach about beneficial and harmful effects\n",
    "courses: { compsci: {week: 15} }\n",
    "type: hacks\n",
    "---"
   ]
  },
  {
   "cell_type": "markdown",
   "metadata": {},
   "source": [
    "## Programming effects\n",
    "Programming, like any other field, has both beneficial and potentially harmful aspects. The more that programming advances, the more we have to discuss benefits and harmful effects that it brings to society."
   ]
  },
  {
   "cell_type": "markdown",
   "metadata": {},
   "source": [
    "## Example of Program with both benefitial and harmful effects"
   ]
  },
  {
   "cell_type": "code",
   "execution_count": 1,
   "metadata": {},
   "outputs": [
    {
     "name": "stdout",
     "output_type": "stream",
     "text": [
      "Sorry, the business is closed at the moment. Please call back during business hours (8 am to 6 pm).\n"
     ]
    }
   ],
   "source": [
    "# Automated phone system of a customer service line for a major company\n",
    "def check_business_hours(hour):\n",
    "    return 8 <= hour < 18\n",
    "\n",
    "def main():\n",
    "    try:\n",
    "        user_input = input(\"Please enter the current time (24-hour format, e.g., 14 for 2:00 PM): \")\n",
    "        current_time = int(user_input)\n",
    "\n",
    "        if check_business_hours(current_time):\n",
    "            print(\"You are being connected to customer service.\")\n",
    "        else:\n",
    "            print(\"Sorry, the business is closed at the moment. Please call back during business hours (8 am to 6 pm).\")\n",
    "\n",
    "    except ValueError:\n",
    "        print(\"Invalid input. Please enter a valid 24-hour time.\")\n",
    "\n",
    "if __name__ == \"__main__\":\n",
    "    main()"
   ]
  },
  {
   "cell_type": "markdown",
   "metadata": {},
   "source": [
    "## Popcorn Hack 1: Name one benefitial and harmful effect of this program above\n",
    "Benefitial:\n",
    "\n",
    "Harmful: "
   ]
  },
  {
   "cell_type": "markdown",
   "metadata": {},
   "source": [
    "## Computing innovations can have impacts beyond their intended effects"
   ]
  },
  {
   "cell_type": "markdown",
   "metadata": {},
   "source": [
    "## Example 1: The internet\n",
    "The internet was originally created for scientists to easily share information remotely without needing to send or receive mail from one another. Nowadays, many people use the internet more than they sleep, as the internet has become an integral part of our lives in many ways. Think about how often you use social media, or do school assignments online, or send a simple email. Our use of the internet can cultivate dopamine feedback loops, such as when your crush likes your post on instagram, you get a snap back from that cute girl, or you find a funny TikTok that makes you laugh hysterically. These make us want to seek out these feelings more and more and experience those seconds of happiness. These effects of the internet lead to people having major issues like sleep deprivation, depression, and anxiety."
   ]
  },
  {
   "cell_type": "markdown",
   "metadata": {},
   "source": [
    "## Example 2: Microtransactions\n",
    "Microtransactions involve small in-game transactions using real-world currency to buy virtual goods, commonly found in free-to-play games as a revenue source for developers. The original purpose is to let players access the core game for free and choose to spend money on non-essential items like cosmetics or character enhancements. However, microtransactions have deviated from their intended purpose in various ways. Pay-to-Win Mechanics introduce advantages for paying players, upsetting the balance between paying and non-paying users. Aggressive monetization tactics, such as constant pop-ups and limited-time offers, have been criticized for creating a negative player experience. Randomized loot boxes, allowing players to spend money for a chance at random items, have sparked controversy due to similarities with gambling, raising concerns about excessive spending without guaranteed desired items. In some cases, microtransactions are used to mitigate intrusive advertising, affecting gameplay and creating a perception that essential features are locked behind a paywall. This deviation has spurred debates on the impact of microtransactions on the gaming industry, player experience, and ethical concerns. While some players appreciate the option to support developers, others criticize the negative effects on game design and fairness within the gaming community. Consequently, the implementation and ethics of microtransactions remain crucial topics in the gaming industry."
   ]
  }
 ],
 "metadata": {
  "kernelspec": {
   "display_name": "Python 3",
   "language": "python",
   "name": "python3"
  },
  "language_info": {
   "codemirror_mode": {
    "name": "ipython",
    "version": 3
   },
   "file_extension": ".py",
   "mimetype": "text/x-python",
   "name": "python",
   "nbconvert_exporter": "python",
   "pygments_lexer": "ipython3",
   "version": "3.10.12"
  }
 },
 "nbformat": 4,
 "nbformat_minor": 2
}
