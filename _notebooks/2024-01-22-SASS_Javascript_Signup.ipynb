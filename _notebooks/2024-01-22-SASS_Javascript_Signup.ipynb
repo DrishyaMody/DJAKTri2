{
 "cells": [
  {
   "cell_type": "markdown",
   "metadata": {},
   "source": [
    "---\n",
    "toc: true\n",
    "comments: true\n",
    "layout: post\n",
    "title: SASS Javascript Login and Signup Page\n",
    "description: Team teach about SASS Javascript login and signup page\n",
    "courses: { compsci: {week: 20} }\n",
    "type: hacks\n",
    "---"
   ]
  },
  {
   "cell_type": "markdown",
   "metadata": {},
   "source": [
    "## What exactly is SASS?\n",
    "- SASS stands for Syntactically Awesome Stylesheet\n",
    "- SASS adds extra toools to make styling websites easier and faster. Is is essentially a way to make writing and organzing styles more convinient."
   ]
  },
  {
   "cell_type": "markdown",
   "metadata": {},
   "source": [
    "#### 1. Why use SASS for your Javascript Login and Signup Page?\n",
    "- SASS allows you to write flexible and organized stylesheets by using features like variables, mixins, and nesting. This can make your code more maintainable and easier to understand, especially as your project grows\n",
    "- SASS allows you to use variables to store values, such as colors or font sizes\n",
    "- SASS code can be compiled into regular CSS, ensuring compatibility with all browsers"
   ]
  },
  {
   "cell_type": "code",
   "execution_count": null,
   "metadata": {
    "vscode": {
     "languageId": "html"
    }
   },
   "outputs": [],
   "source": []
  }
 ],
 "metadata": {
  "language_info": {
   "name": "python"
  }
 },
 "nbformat": 4,
 "nbformat_minor": 2
}
